{
 "cells": [
  {
   "cell_type": "code",
   "execution_count": 1,
   "metadata": {},
   "outputs": [],
   "source": [
    "import os\n",
    "import glob\n",
    "\n",
    "import numpy as np\n",
    "import pandas as pd\n",
    "import matplotlib.pyplot as plt\n",
    "import seaborn as sns\n",
    "from enum import StrEnum\n",
    "\n",
    "plt.rcdefaults()\n",
    "plt.rc('axes.formatter', use_mathtext=True)\n",
    "plt.rc('figure', dpi=100)\n",
    "font = {\n",
    "    'family' : 'serif',\n",
    "    'size'   : 12,\n",
    "    'serif':  'cmr10'\n",
    "}\n",
    "plt.rc('font', **font)\n",
    "\n",
    "np.set_printoptions(suppress=True)"
   ]
  },
  {
   "cell_type": "code",
   "execution_count": 2,
   "metadata": {},
   "outputs": [],
   "source": [
    "# colors\n",
    "class color(StrEnum):\n",
    "    LeNet = \"green\"\n",
    "    AlexNet = \"blue\"\n",
    "    AlexNetVIB = \"black\"\n",
    "    AlexNetMCDO = \"red\"\n",
    "    AlexNetTH_VIB = \"orange\"\n",
    "    VGG = \"dodgerblue\"\n",
    "    ResNet = \"saddlebrown\"\n",
    "\n",
    "    @classmethod\n",
    "    def from_model_name(cls, model_name):\n",
    "        return cls[model_name].value"
   ]
  },
  {
   "cell_type": "code",
   "execution_count": 3,
   "metadata": {},
   "outputs": [],
   "source": [
    "def replace_customnet(model_name):\n",
    "    if model_name == \"CustomNet\":\n",
    "        return \"AlexNetTH_VIB\"\n",
    "    return model_name"
   ]
  },
  {
   "cell_type": "code",
   "execution_count": 4,
   "metadata": {},
   "outputs": [],
   "source": [
    "test_path = \"/workspace/result/test\"\n",
    "model_paths = os.listdir(test_path)\n",
    "model_path_stg = {}\n",
    "for model_path in model_paths:\n",
    "    model_path_stg[model_path] = glob.glob(f\"{test_path}/{model_path}/**data**/**.csv\", recursive=True)\n",
    "\n",
    "test_dfs = {} \n",
    "for model, path in model_path_stg.items():\n",
    "    test_dfs[model] = [pd.read_csv(filename, index_col=None, header=0) for filename in model_path_stg[model]]\n"
   ]
  },
  {
   "cell_type": "code",
   "execution_count": 5,
   "metadata": {},
   "outputs": [
    {
     "data": {
      "text/plain": [
       "array([[ 1.23, 65.88,  1.23,  0.5 ,  0.82,  0.34,  0.04]])"
      ]
     },
     "execution_count": 5,
     "metadata": {},
     "output_type": "execute_result"
    }
   ],
   "source": [
    "np.round(np.mean(test_dfs[\"LeNet\"], axis=0), 2)"
   ]
  },
  {
   "cell_type": "code",
   "execution_count": 6,
   "metadata": {},
   "outputs": [
    {
     "data": {
      "text/plain": [
       "[   Test Loss  Test Accuracy  Log Loss  Entropy Reduction  Model Confidence  \\\n",
       " 0       1.15           68.4      1.15               0.47              0.83   \n",
       " \n",
       "    Top 1 Error  Top 5 Error  \n",
       " 0         0.32         0.03  ,\n",
       "    Test Loss  Test Accuracy  Log Loss  Entropy Reduction  Model Confidence  \\\n",
       " 0       1.25          64.89      1.25               0.51              0.81   \n",
       " \n",
       "    Top 1 Error  Top 5 Error  \n",
       " 0         0.35         0.04  ,\n",
       "    Test Loss  Test Accuracy  Log Loss  Entropy Reduction  Model Confidence  \\\n",
       " 0       1.19          67.35      1.18               0.49              0.82   \n",
       " \n",
       "    Top 1 Error  Top 5 Error  \n",
       " 0         0.33         0.03  ,\n",
       "    Test Loss  Test Accuracy  Log Loss  Entropy Reduction  Model Confidence  \\\n",
       " 0       1.28          64.03      1.28               0.53              0.81   \n",
       " \n",
       "    Top 1 Error  Top 5 Error  \n",
       " 0         0.36         0.04  ,\n",
       "    Test Loss  Test Accuracy  Log Loss  Entropy Reduction  Model Confidence  \\\n",
       " 0       1.28          64.73      1.28               0.51              0.81   \n",
       " \n",
       "    Top 1 Error  Top 5 Error  \n",
       " 0         0.35         0.04  ]"
      ]
     },
     "execution_count": 6,
     "metadata": {},
     "output_type": "execute_result"
    }
   ],
   "source": [
    "test_dfs[\"LeNet\"]"
   ]
  },
  {
   "cell_type": "code",
   "execution_count": 24,
   "metadata": {},
   "outputs": [],
   "source": [
    "df_mean_dict = {}\n",
    "df_std_dict = {}\n",
    "for model_name, df in test_dfs.items():\n",
    "\n",
    "    df_mean = np.round(np.mean(df, axis=0), 2)\n",
    "    df_std = np.round(np.std(df, axis=0), 2)\n",
    "    model_name = replace_customnet(model_name=model_name)\n",
    "    df_mean_dict[model_name] = df_mean[0]\n",
    "    df_std_dict[model_name] = df_std[0]\n",
    "\n",
    "df_m = pd.DataFrame(df_mean_dict, index=test_dfs[\"LeNet\"][0].columns)\n",
    "df_s = pd.DataFrame(df_std_dict, index=test_dfs[\"LeNet\"][0].columns)\n"
   ]
  },
  {
   "cell_type": "code",
   "execution_count": 26,
   "metadata": {},
   "outputs": [
    {
     "data": {
      "text/plain": [
       "Index(['Test Loss', 'Test Accuracy', 'Log Loss', 'Entropy Reduction',\n",
       "       'Model Confidence', 'Top 1 Error', 'Top 5 Error'],\n",
       "      dtype='object')"
      ]
     },
     "execution_count": 26,
     "metadata": {},
     "output_type": "execute_result"
    }
   ],
   "source": [
    "df_s.index"
   ]
  },
  {
   "cell_type": "code",
   "execution_count": 28,
   "metadata": {},
   "outputs": [],
   "source": [
    "df_s = df_s.loc[['Test Accuracy', 'Entropy Reduction',\n",
    "       'Model Confidence', 'Top 1 Error', 'Top 5 Error']].copy()"
   ]
  },
  {
   "cell_type": "code",
   "execution_count": 30,
   "metadata": {},
   "outputs": [
    {
     "name": "stdout",
     "output_type": "stream",
     "text": [
      "\\begin{tabular}{lrrrrr}\n",
      "\\toprule\n",
      " & Test Accuracy & Entropy Reduction & Model Confidence & Top 1 Error & Top 5 Error \\\\\n",
      "\\midrule\n",
      "AlexNetTH_VIB & 0.570000 & 0.010000 & 0.000000 & 0.010000 & 0.000000 \\\\\n",
      "AlexNetMCDO & 0.530000 & 0.010000 & 0.000000 & 0.010000 & 0.000000 \\\\\n",
      "VGG & 0.980000 & 0.010000 & 0.000000 & 0.010000 & 0.000000 \\\\\n",
      "LeNet & 1.690000 & 0.020000 & 0.010000 & 0.010000 & 0.000000 \\\\\n",
      "AlexNetVIB & 0.740000 & 0.000000 & 0.000000 & 0.010000 & 0.000000 \\\\\n",
      "AlexNet & 0.390000 & 0.010000 & 0.000000 & 0.000000 & 0.000000 \\\\\n",
      "ResNet & 0.260000 & 0.000000 & 0.000000 & 0.000000 & 0.000000 \\\\\n",
      "\\bottomrule\n",
      "\\end{tabular}\n",
      "\n"
     ]
    }
   ],
   "source": [
    "print(df_s.T.to_latex())"
   ]
  },
  {
   "cell_type": "code",
   "execution_count": null,
   "metadata": {},
   "outputs": [
    {
     "data": {
      "text/plain": [
       "Index(['Test Loss', 'Test Accuracy', 'Log Loss', 'Entropy Reduction',\n",
       "       'Model Confidence', 'Top 1 Error', 'Top 5 Error'],\n",
       "      dtype='object')"
      ]
     },
     "execution_count": 27,
     "metadata": {},
     "output_type": "execute_result"
    }
   ],
   "source": []
  },
  {
   "cell_type": "code",
   "execution_count": 20,
   "metadata": {},
   "outputs": [
    {
     "data": {
      "text/plain": [
       "{'CustomNet': [   Test Loss  Test Accuracy  Log Loss  Entropy Reduction  Model Confidence  \\\n",
       "  0        0.9           79.2      0.89               0.23              0.91   \n",
       "  \n",
       "     Top 1 Error  Top 5 Error  \n",
       "  0         0.21         0.02  ,\n",
       "     Test Loss  Test Accuracy  Log Loss  Entropy Reduction  Model Confidence  \\\n",
       "  0       0.92           79.8      0.91               0.21              0.92   \n",
       "  \n",
       "     Top 1 Error  Top 5 Error  \n",
       "  0          0.2         0.01  ,\n",
       "     Test Loss  Test Accuracy  Log Loss  Entropy Reduction  Model Confidence  \\\n",
       "  0       0.94          79.25      0.93               0.22              0.92   \n",
       "  \n",
       "     Top 1 Error  Top 5 Error  \n",
       "  0         0.21         0.01  ,\n",
       "     Test Loss  Test Accuracy  Log Loss  Entropy Reduction  Model Confidence  \\\n",
       "  0       0.92          79.91      0.91               0.21              0.92   \n",
       "  \n",
       "     Top 1 Error  Top 5 Error  \n",
       "  0          0.2         0.02  ,\n",
       "     Test Loss  Test Accuracy  Log Loss  Entropy Reduction  Model Confidence  \\\n",
       "  0       0.95          78.31      0.93               0.23              0.91   \n",
       "  \n",
       "     Top 1 Error  Top 5 Error  \n",
       "  0         0.22         0.02  ],\n",
       " 'AlexNetMCDO': [   Test Loss  Test Accuracy  Log Loss  Entropy Reduction  Model Confidence  \\\n",
       "  0       0.79          83.87      0.78               0.14              0.95   \n",
       "  \n",
       "     Top 1 Error  Top 5 Error  \n",
       "  0         0.16         0.01  ,\n",
       "     Test Loss  Test Accuracy  Log Loss  Entropy Reduction  Model Confidence  \\\n",
       "  0       0.75          82.92      0.75               0.16              0.94   \n",
       "  \n",
       "     Top 1 Error  Top 5 Error  \n",
       "  0         0.17         0.01  ,\n",
       "     Test Loss  Test Accuracy  Log Loss  Entropy Reduction  Model Confidence  \\\n",
       "  0       0.73          84.51      0.73               0.14              0.94   \n",
       "  \n",
       "     Top 1 Error  Top 5 Error  \n",
       "  0         0.15         0.01  ,\n",
       "     Test Loss  Test Accuracy  Log Loss  Entropy Reduction  Model Confidence  \\\n",
       "  0       0.78          84.06      0.78               0.14              0.95   \n",
       "  \n",
       "     Top 1 Error  Top 5 Error  \n",
       "  0         0.16         0.01  ,\n",
       "     Test Loss  Test Accuracy  Log Loss  Entropy Reduction  Model Confidence  \\\n",
       "  0       0.76          83.62      0.75               0.15              0.94   \n",
       "  \n",
       "     Top 1 Error  Top 5 Error  \n",
       "  0         0.16         0.01  ],\n",
       " 'VGG': [   Test Loss  Test Accuracy  Log Loss  Entropy Reduction  Model Confidence  \\\n",
       "  0       0.65          87.59      0.65               0.09              0.97   \n",
       "  \n",
       "     Top 1 Error  Top 5 Error  \n",
       "  0         0.12         0.01  ,\n",
       "     Test Loss  Test Accuracy  Log Loss  Entropy Reduction  Model Confidence  \\\n",
       "  0       0.63          88.04      0.63               0.08              0.97   \n",
       "  \n",
       "     Top 1 Error  Top 5 Error  \n",
       "  0         0.12         0.01  ,\n",
       "     Test Loss  Test Accuracy  Log Loss  Entropy Reduction  Model Confidence  \\\n",
       "  0       0.71          87.27      0.71               0.08              0.97   \n",
       "  \n",
       "     Top 1 Error  Top 5 Error  \n",
       "  0         0.13         0.01  ,\n",
       "     Test Loss  Test Accuracy  Log Loss  Entropy Reduction  Model Confidence  \\\n",
       "  0       0.77          85.84      0.77               0.09              0.97   \n",
       "  \n",
       "     Top 1 Error  Top 5 Error  \n",
       "  0         0.14         0.01  ,\n",
       "     Test Loss  Test Accuracy  Log Loss  Entropy Reduction  Model Confidence  \\\n",
       "  0       0.77          85.56      0.77                0.1              0.96   \n",
       "  \n",
       "     Top 1 Error  Top 5 Error  \n",
       "  0         0.14         0.01  ],\n",
       " 'LeNet': [   Test Loss  Test Accuracy  Log Loss  Entropy Reduction  Model Confidence  \\\n",
       "  0       1.15           68.4      1.15               0.47              0.83   \n",
       "  \n",
       "     Top 1 Error  Top 5 Error  \n",
       "  0         0.32         0.03  ,\n",
       "     Test Loss  Test Accuracy  Log Loss  Entropy Reduction  Model Confidence  \\\n",
       "  0       1.25          64.89      1.25               0.51              0.81   \n",
       "  \n",
       "     Top 1 Error  Top 5 Error  \n",
       "  0         0.35         0.04  ,\n",
       "     Test Loss  Test Accuracy  Log Loss  Entropy Reduction  Model Confidence  \\\n",
       "  0       1.19          67.35      1.18               0.49              0.82   \n",
       "  \n",
       "     Top 1 Error  Top 5 Error  \n",
       "  0         0.33         0.03  ,\n",
       "     Test Loss  Test Accuracy  Log Loss  Entropy Reduction  Model Confidence  \\\n",
       "  0       1.28          64.03      1.28               0.53              0.81   \n",
       "  \n",
       "     Top 1 Error  Top 5 Error  \n",
       "  0         0.36         0.04  ,\n",
       "     Test Loss  Test Accuracy  Log Loss  Entropy Reduction  Model Confidence  \\\n",
       "  0       1.28          64.73      1.28               0.51              0.81   \n",
       "  \n",
       "     Top 1 Error  Top 5 Error  \n",
       "  0         0.35         0.04  ],\n",
       " 'AlexNetVIB': [   Test Loss  Test Accuracy  Log Loss  Entropy Reduction  Model Confidence  \\\n",
       "  0       1.45           74.6      1.42               0.18              0.93   \n",
       "  \n",
       "     Top 1 Error  Top 5 Error  \n",
       "  0         0.25         0.03  ,\n",
       "     Test Loss  Test Accuracy  Log Loss  Entropy Reduction  Model Confidence  \\\n",
       "  0       1.69          72.38      1.64               0.18              0.93   \n",
       "  \n",
       "     Top 1 Error  Top 5 Error  \n",
       "  0         0.28         0.03  ,\n",
       "     Test Loss  Test Accuracy  Log Loss  Entropy Reduction  Model Confidence  \\\n",
       "  0       1.61          73.42      1.57               0.17              0.93   \n",
       "  \n",
       "     Top 1 Error  Top 5 Error  \n",
       "  0         0.27         0.03  ,\n",
       "     Test Loss  Test Accuracy  Log Loss  Entropy Reduction  Model Confidence  \\\n",
       "  0       1.65          72.98       1.6               0.18              0.93   \n",
       "  \n",
       "     Top 1 Error  Top 5 Error  \n",
       "  0         0.27         0.03  ,\n",
       "     Test Loss  Test Accuracy  Log Loss  Entropy Reduction  Model Confidence  \\\n",
       "  0       1.58          73.71      1.54               0.18              0.93   \n",
       "  \n",
       "     Top 1 Error  Top 5 Error  \n",
       "  0         0.26         0.03  ],\n",
       " 'AlexNet': [   Test Loss  Test Accuracy  Log Loss  Entropy Reduction  Model Confidence  \\\n",
       "  0        0.7          84.41       0.7               0.15              0.94   \n",
       "  \n",
       "     Top 1 Error  Top 5 Error  \n",
       "  0         0.16         0.01  ,\n",
       "     Test Loss  Test Accuracy  Log Loss  Entropy Reduction  Model Confidence  \\\n",
       "  0       0.74          83.99      0.73               0.16              0.94   \n",
       "  \n",
       "     Top 1 Error  Top 5 Error  \n",
       "  0         0.16         0.01  ,\n",
       "     Test Loss  Test Accuracy  Log Loss  Entropy Reduction  Model Confidence  \\\n",
       "  0        0.7          84.66       0.7               0.14              0.95   \n",
       "  \n",
       "     Top 1 Error  Top 5 Error  \n",
       "  0         0.15         0.01  ,\n",
       "     Test Loss  Test Accuracy  Log Loss  Entropy Reduction  Model Confidence  \\\n",
       "  0       0.72          84.44      0.72               0.15              0.94   \n",
       "  \n",
       "     Top 1 Error  Top 5 Error  \n",
       "  0         0.16         0.01  ,\n",
       "     Test Loss  Test Accuracy  Log Loss  Entropy Reduction  Model Confidence  \\\n",
       "  0        0.8          83.55       0.8               0.14              0.94   \n",
       "  \n",
       "     Top 1 Error  Top 5 Error  \n",
       "  0         0.16         0.01  ],\n",
       " 'ResNet': [   Test Loss  Test Accuracy  Log Loss  Entropy Reduction  Model Confidence  \\\n",
       "  0       0.61          83.85      0.61               0.21              0.93   \n",
       "  \n",
       "     Top 1 Error  Top 5 Error  \n",
       "  0         0.16         0.01  ,\n",
       "     Test Loss  Test Accuracy  Log Loss  Entropy Reduction  Model Confidence  \\\n",
       "  0       0.61          84.56      0.61                0.2              0.93   \n",
       "  \n",
       "     Top 1 Error  Top 5 Error  \n",
       "  0         0.15         0.01  ,\n",
       "     Test Loss  Test Accuracy  Log Loss  Entropy Reduction  Model Confidence  \\\n",
       "  0       0.63          84.17      0.62                0.2              0.93   \n",
       "  \n",
       "     Top 1 Error  Top 5 Error  \n",
       "  0         0.16         0.01  ,\n",
       "     Test Loss  Test Accuracy  Log Loss  Entropy Reduction  Model Confidence  \\\n",
       "  0        0.6          84.39       0.6                0.2              0.93   \n",
       "  \n",
       "     Top 1 Error  Top 5 Error  \n",
       "  0         0.16         0.01  ,\n",
       "     Test Loss  Test Accuracy  Log Loss  Entropy Reduction  Model Confidence  \\\n",
       "  0        0.6          84.51       0.6                0.2              0.93   \n",
       "  \n",
       "     Top 1 Error  Top 5 Error  \n",
       "  0         0.15         0.01  ]}"
      ]
     },
     "execution_count": 20,
     "metadata": {},
     "output_type": "execute_result"
    }
   ],
   "source": [
    "test_dfs"
   ]
  },
  {
   "cell_type": "code",
   "execution_count": null,
   "metadata": {},
   "outputs": [],
   "source": []
  }
 ],
 "metadata": {
  "kernelspec": {
   "display_name": "Python 3",
   "language": "python",
   "name": "python3"
  },
  "language_info": {
   "codemirror_mode": {
    "name": "ipython",
    "version": 3
   },
   "file_extension": ".py",
   "mimetype": "text/x-python",
   "name": "python",
   "nbconvert_exporter": "python",
   "pygments_lexer": "ipython3",
   "version": "3.13.2"
  }
 },
 "nbformat": 4,
 "nbformat_minor": 2
}
